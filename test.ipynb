{
 "cells": [
  {
   "cell_type": "code",
   "execution_count": 4,
   "id": "593381ff",
   "metadata": {},
   "outputs": [
    {
     "name": "stdout",
     "output_type": "stream",
     "text": [
      "{\n",
      "    \"nip11_success\": true,\n",
      "    \"name\": \"damus.io\",\n",
      "    \"description\": \"Damus strfry relay\",\n",
      "    \"banner\": null,\n",
      "    \"icon\": \"https://damus.io/img/logo.png\",\n",
      "    \"pubkey\": \"32e1827635450ebb3c5a7d12c1f8e7b2b514439ac10a67eef3d9fd9c5c68e245\",\n",
      "    \"contact\": \"jb55@jb55.com\",\n",
      "    \"supported_nips\": [\n",
      "        1,\n",
      "        2,\n",
      "        4,\n",
      "        9,\n",
      "        11,\n",
      "        22,\n",
      "        28,\n",
      "        40,\n",
      "        70,\n",
      "        77\n",
      "    ],\n",
      "    \"software\": \"git+https://github.com/hoytech/strfry.git\",\n",
      "    \"version\": \"1.0.4-1-g783f9ce8cc77\",\n",
      "    \"privacy_policy\": null,\n",
      "    \"terms_of_service\": null,\n",
      "    \"limitation\": {\n",
      "        \"max_limit\": 500,\n",
      "        \"max_message_length\": 1000000,\n",
      "        \"max_subscriptions\": 300\n",
      "    },\n",
      "    \"extra_fields\": {\n",
      "        \"negentropy\": 1\n",
      "    },\n",
      "    \"max_subscriptions\": {\n",
      "        \"max_limit\": 500,\n",
      "        \"max_message_length\": 1000000,\n",
      "        \"max_subscriptions\": 300\n",
      "    },\n",
      "    \"negentropy\": {\n",
      "        \"negentropy\": 1\n",
      "    }\n",
      "}\n"
     ]
    }
   ],
   "source": [
    "from nostr_tools.actions import fetch_nip11\n",
    "from nostr_tools.core.relay import Relay\n",
    "from nostr_tools.core.client import Client\n",
    "from nostr_tools.core.filter import Filter\n",
    "from nostr_tools.utils.utils import parse_nip11_response\n",
    "relay = Relay('wss://relay.damus.io')\n",
    "async with Client(relay) as client:\n",
    "    nip11_response = await fetch_nip11(client)\n",
    "nip11_response = parse_nip11_response(nip11_response)\n",
    "import json\n",
    "print(json.dumps(nip11_response, indent=4))"
   ]
  },
  {
   "cell_type": "code",
   "execution_count": 2,
   "id": "d5328d07",
   "metadata": {},
   "outputs": [],
   "source": [
    "await fetch_nip11(client)"
   ]
  },
  {
   "cell_type": "code",
   "execution_count": 2,
   "id": "ca6b9136",
   "metadata": {},
   "outputs": [],
   "source": [
    "import time\n",
    "async def check_connectivity(client):\n",
    "    if client.is_connected:\n",
    "        await client.disconnect()\n",
    "    rtt_open = None\n",
    "    openable = False\n",
    "    try:\n",
    "        time_start = time.perf_counter()\n",
    "        async with client:\n",
    "            time_end = time.perf_counter()\n",
    "            rtt_open = int((time_end - time_start) * 1000)\n",
    "            openable = True\n",
    "    except Exception:\n",
    "        pass\n",
    "    return rtt_open, openable\n",
    "\n"
   ]
  },
  {
   "cell_type": "code",
   "execution_count": null,
   "id": "777795fb",
   "metadata": {},
   "outputs": [],
   "source": [
    "client = Client(relay)\n",
    "async with client:\n",
    "    re"
   ]
  }
 ],
 "metadata": {
  "kernelspec": {
   "display_name": "venv",
   "language": "python",
   "name": "python3"
  },
  "language_info": {
   "codemirror_mode": {
    "name": "ipython",
    "version": 3
   },
   "file_extension": ".py",
   "mimetype": "text/x-python",
   "name": "python",
   "nbconvert_exporter": "python",
   "pygments_lexer": "ipython3",
   "version": "3.9.6"
  }
 },
 "nbformat": 4,
 "nbformat_minor": 5
}
